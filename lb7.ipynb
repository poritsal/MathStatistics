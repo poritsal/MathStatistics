{
 "cells": [
  {
   "cell_type": "code",
   "execution_count": null,
   "metadata": {},
   "outputs": [],
   "source": [
    "import numpy as np\n",
    "import scipy as sp"
   ]
  },
  {
   "cell_type": "code",
   "execution_count": null,
   "metadata": {},
   "outputs": [],
   "source": [
    "ns = np.array([20, 100])\n",
    "distributions = {\n",
    "  'Normal': [np.random.normal(loc=0, scale=1, size=n) for n in ns],\n",
    "  'Student\\'s t': [np.random.standard_t(df=10, size=n) for n in ns],\n",
    "  'Uniform': [np.random.uniform(low=-1, high=1, size=n) for n in ns],\n",
    "}"
   ]
  },
  {
   "cell_type": "code",
   "execution_count": null,
   "metadata": {},
   "outputs": [],
   "source": [
    "def chi2_test(data, bins, alpha=0.05):\n",
    "  observed_values, _ = np.histogram(data, bins=bins)\n",
    "  expected_values = [len(data)/bins] * bins\n",
    "  chi2, p_val = sp.stats.chisquare(f_obs=observed_values, f_exp=expected_values)\n",
    "\n",
    "  chi2_critical = sp.stats.chi2.ppf(q = 1 - alpha, df = bins - 1)\n",
    "\n",
    "  return chi2, p_val, chi2_critical"
   ]
  },
  {
   "cell_type": "code",
   "execution_count": null,
   "metadata": {},
   "outputs": [],
   "source": [
    "alpha = 0.05\n",
    "bins = 10\n",
    "\n",
    "for dist_name, datasets in distributions.items():\n",
    "  for i, data in enumerate(datasets):\n",
    "    chi2, p_val, chi2_critical = chi2_test(data, bins)\n",
    "    print(f\"\\nDistribution: {dist_name}, n={ns[i]}\")\n",
    "    print(f\"Chi-squared: {chi2}, chi2-critical: {chi2_critical}\")\n",
    "    if chi2 < chi2_critical:\n",
    "      print(f\"Approve null hypothesis, data follows the expected distribution\")\n",
    "    else:\n",
    "      print(f\"Reject null hypothesis, data does not follow the expected distribution\")"
   ]
  }
 ],
 "metadata": {
  "kernelspec": {
   "display_name": "base",
   "language": "python",
   "name": "python3"
  },
  "language_info": {
   "codemirror_mode": {
    "name": "ipython",
    "version": 3
   },
   "file_extension": ".py",
   "mimetype": "text/x-python",
   "name": "python",
   "nbconvert_exporter": "python",
   "pygments_lexer": "ipython3",
   "version": "3.10.13"
  }
 },
 "nbformat": 4,
 "nbformat_minor": 2
}
